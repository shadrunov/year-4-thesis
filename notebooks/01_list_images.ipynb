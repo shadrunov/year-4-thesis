{
 "cells": [
  {
   "cell_type": "code",
   "execution_count": 1,
   "metadata": {},
   "outputs": [],
   "source": [
    "import string\n",
    "import requests\n",
    "import json\n",
    "from requests import HTTPError\n",
    "from ipywidgets import IntProgress\n",
    "from IPython.display import display"
   ]
  },
  {
   "cell_type": "code",
   "execution_count": 5,
   "metadata": {},
   "outputs": [
    {
     "data": {
      "text/plain": [
       "['aa', 'ab', 'ac', 'ad', 'ae', 'af', 'ag', 'ah', 'ai', 'aj']"
      ]
     },
     "execution_count": 5,
     "metadata": {},
     "output_type": "execute_result"
    }
   ],
   "source": [
    "# here we combine all possible two character sequences to query Docker Hub\n",
    "\n",
    "queries = []\n",
    "for f in string.ascii_lowercase:\n",
    "    for s in string.ascii_lowercase:\n",
    "        queries.append(f + s)\n",
    "queries[:10]"
   ]
  },
  {
   "cell_type": "code",
   "execution_count": 6,
   "metadata": {},
   "outputs": [],
   "source": [
    "def get_page(page: int, query: str):\n",
    "    \"\"\"\n",
    "    requests Docker Hub images with the query\n",
    "    \"\"\"\n",
    "    url = \"https://hub.docker.com/api/content/v1/products/search\"\n",
    "    params = {\n",
    "        \"page_size\": 100,\n",
    "        \"q\": query,\n",
    "        \"source\": \"community\",\n",
    "        \"type\": \"image\",\n",
    "        \"page\": page\n",
    "    }\n",
    "    response = requests.get(url, params=params)\n",
    "    response.raise_for_status()\n",
    "    data = response.json()\n",
    "    return data[\"summaries\"]"
   ]
  },
  {
   "cell_type": "code",
   "execution_count": null,
   "metadata": {},
   "outputs": [],
   "source": [
    "# this dict checkpoints the progress\n",
    "query_finished = {}\n",
    "for q in queries:\n",
    "    query_finished[q] = False\n",
    "\n",
    "for a in string.ascii_lowercase[:16]:\n",
    "    for b in string.ascii_lowercase:\n",
    "        query_finished[a + b] = True"
   ]
  },
  {
   "cell_type": "code",
   "execution_count": null,
   "metadata": {},
   "outputs": [],
   "source": [
    "# for each two-letter string retrieve 100 pages with 100 images each and store to file\n",
    "index_start = 0\n",
    "index_end = len(queries)\n",
    "page_start = 1\n",
    "page_end = 100\n",
    "\n",
    "bar = IntProgress(min=0, max=index_end)\n",
    "display(bar)\n",
    "\n",
    "\n",
    "for index in range(index_start, index_end):\n",
    "    query = queries[index]\n",
    "    print(f\"getting {query}\")\n",
    "    if query_finished[query] != True:\n",
    "        images = {}\n",
    "        for i in range(page_start, page_end):\n",
    "            images[i] = []\n",
    "        \n",
    "        for page_index in range(page_start, page_end):\n",
    "            try:\n",
    "                images[page_index] = get_page(page_index, query)\n",
    "            except HTTPError:\n",
    "                print(f\"error with query {query} page {page_index}\")\n",
    "\n",
    "        with open(f\"../data/01_list_images/letters_paginated/{query}.json\", \"w\") as output:\n",
    "            json.dump(images, output, ensure_ascii=False, indent=4)\n",
    "        \n",
    "    print(f\"got {query}\")\n",
    "    query_finished[query] = True\n",
    "    bar.value += 1"
   ]
  },
  {
   "cell_type": "code",
   "execution_count": null,
   "metadata": {},
   "outputs": [],
   "source": [
    "# check all finished\n",
    "all(finished == True for finished in query_finished.values())"
   ]
  },
  {
   "cell_type": "code",
   "execution_count": null,
   "metadata": {},
   "outputs": [],
   "source": [
    "# for each two-letters query string combine 100 pages together\n",
    "\n",
    "bar = IntProgress(min=0, max=len(queries))\n",
    "display(bar)\n",
    "\n",
    "for query in queries:\n",
    "    images = []\n",
    "    with open(f\"../data/01_list_images/letters_paginated/{query}.json\", \"r\") as f:\n",
    "        images_pages = json.load(f)\n",
    "    for page in images_pages.values():\n",
    "        images.extend(page)\n",
    "    with open(f\"../data/01_list_images/letters/{query}.json\", \"w\") as output:\n",
    "        json.dump(images, output, ensure_ascii=False, indent=4)\n",
    "    bar.value += 1"
   ]
  }
 ],
 "metadata": {
  "kernelspec": {
   "display_name": "Python 3",
   "language": "python",
   "name": "python3"
  },
  "language_info": {
   "codemirror_mode": {
    "name": "ipython",
    "version": 3
   },
   "file_extension": ".py",
   "mimetype": "text/x-python",
   "name": "python",
   "nbconvert_exporter": "python",
   "pygments_lexer": "ipython3",
   "version": "3.11.6"
  }
 },
 "nbformat": 4,
 "nbformat_minor": 2
}
