{
 "cells": [
  {
   "cell_type": "code",
   "execution_count": 3,
   "metadata": {},
   "outputs": [],
   "source": [
    "import requests\n",
    "import random\n",
    "import pandas as pd\n",
    "import json\n",
    "from ipywidgets import IntProgress\n",
    "from IPython.display import display"
   ]
  },
  {
   "cell_type": "markdown",
   "metadata": {},
   "source": [
    "# get tags for subset `quant.csv`"
   ]
  },
  {
   "cell_type": "code",
   "execution_count": 4,
   "metadata": {},
   "outputs": [],
   "source": [
    "quant = pd.read_csv(\"../data/02_subset_images/quant.csv\")"
   ]
  },
  {
   "cell_type": "code",
   "execution_count": null,
   "metadata": {},
   "outputs": [],
   "source": [
    "# track progress\n",
    "\n",
    "images_random = {}\n",
    "for image in quant.name:\n",
    "    images_random[image] = False"
   ]
  },
  {
   "cell_type": "code",
   "execution_count": null,
   "metadata": {},
   "outputs": [],
   "source": [
    "# select 10 random tags for each image from the subset\n",
    "# check that \"amd64\" is listed among the architecture of the tag\n",
    "\n",
    "counter = 0\n",
    "N = 10\n",
    "\n",
    "for image in quant.name:\n",
    "    print(f\"Getting {image}\")\n",
    "    if images_random[image] == False:\n",
    "        tags = []\n",
    "        try:\n",
    "            pref, suf = image.split(\"/\")\n",
    "            link = f\"https://hub.docker.com/v2/namespaces/{pref}/repositories/{suf}/tags\"\n",
    "            res = requests.get(link)\n",
    "            res.raise_for_status()\n",
    "            res = res.json()\n",
    "            count = res[\"count\"]\n",
    "            up = count if count < 10 else count // 2\n",
    "            iteration = 0\n",
    "            total = 0\n",
    "            while total < N and iteration < 100:\n",
    "                page_num = random.randint(1, up)\n",
    "                tag = requests.get(link, params={\"page\": page_num, \"page_size\": 1}).json()[\"results\"][0]\n",
    "                if \"amd64\" in [i[\"architecture\"] for i in tag[\"images\"]]:\n",
    "                    tags.append(tag)\n",
    "                    total += 1\n",
    "                iteration += 1\n",
    "            \n",
    "            if iteration == 100:\n",
    "                print(\"Error: not enough amd64 images found\")\n",
    "            with open(f\"../data/03_list_tags/res/{pref}_{suf}.json\", \"w\") as f:\n",
    "                json.dump(tags, f, ensure_ascii=False, indent=4)\n",
    "        except:\n",
    "            print(f\"Error with {image}\")\n",
    "        \n",
    "\n",
    "    images_random[image] = True\n",
    "    counter += 1\n",
    "    percent = round((counter / len(images_random)) * 100)\n",
    "    print(\"x\" * percent, \"_\" * (100 - percent), f\" {counter} of {len(images_random)} ({percent}%)\", sep=\"\")"
   ]
  },
  {
   "cell_type": "markdown",
   "metadata": {},
   "source": [
    "# leave tags for the smaller subset of images `quant_1000.csv`"
   ]
  },
  {
   "cell_type": "code",
   "execution_count": 5,
   "metadata": {},
   "outputs": [],
   "source": [
    "quant_1000 = pd.read_csv(\"../data/02_subset_images/quant_1000.csv\")"
   ]
  },
  {
   "cell_type": "code",
   "execution_count": null,
   "metadata": {},
   "outputs": [],
   "source": [
    "# list of tags\n",
    "# here about 3 tags per image are selected\n",
    "\n",
    "with open(\"../data/03_list_tags/tags_flat_3000.json\", \"r\") as f:\n",
    "    tags_flat_list = json.load(f)"
   ]
  },
  {
   "cell_type": "code",
   "execution_count": null,
   "metadata": {},
   "outputs": [],
   "source": [
    "images = {}\n",
    "for image in quant_1000.name:\n",
    "    images[image] = False"
   ]
  },
  {
   "cell_type": "code",
   "execution_count": null,
   "metadata": {},
   "outputs": [],
   "source": [
    "tags = {}\n",
    "\n",
    "for image in quant_1000.name:\n",
    "    tags_for_image = {}\n",
    "    pref, suf = image.split(\"/\")\n",
    "    with open(f\"../data/03_list_tags/res/{pref}_{suf}.json\", \"r\") as f:\n",
    "        tags_from_file = json.load(f)\n",
    "        \n",
    "    # check tags from the list\n",
    "    matching_tags = [q for q in tags_flat_list if f\"{pref}/{suf}\" in q]\n",
    "    for tag in matching_tags:\n",
    "        pref, suf, postf = tag.split(\"_\", 2)\n",
    "        matching_tag_from_file = [q for q in tags_from_file if postf == q.get(\"name\")]\n",
    "        if len(matching_tag_from_file) == 1:\n",
    "            matching_tag = matching_tag_from_file[0]\n",
    "            if \"linux\" in [q.get(\"os\") for q in matching_tag.get(\"images\", [])]:\n",
    "                tags_for_image[f\"{image}:{matching_tag['name']}\"] = matching_tag[\"last_updated\"]\n",
    "                print(f\"{image}:{matching_tag['name']}\")\n",
    "                if len(tags_for_image) > 2:\n",
    "                    break\n",
    "    \n",
    "    i = 0\n",
    "    while i < len(tags_from_file) and len(tags_for_image) < 3:\n",
    "        if \"linux\" in [q.get(\"os\") for q in tags_from_file[i].get(\"images\", [])]:\n",
    "            tags_for_image[f\"{image}:{tags_from_file[i]['name']}\"] = tags_from_file[i][\"last_updated\"]\n",
    "        i += 1\n",
    "    tags[image] = tags_for_image"
   ]
  },
  {
   "cell_type": "code",
   "execution_count": null,
   "metadata": {},
   "outputs": [],
   "source": [
    "with open(\"tags/tags_random_amd64/tags_3000.json\", \"w\") as f:\n",
    "    json.dump(tags, f)"
   ]
  }
 ],
 "metadata": {
  "kernelspec": {
   "display_name": ".venv",
   "language": "python",
   "name": "python3"
  },
  "language_info": {
   "codemirror_mode": {
    "name": "ipython",
    "version": 3
   },
   "file_extension": ".py",
   "mimetype": "text/x-python",
   "name": "python",
   "nbconvert_exporter": "python",
   "pygments_lexer": "ipython3",
   "version": "3.11.6"
  }
 },
 "nbformat": 4,
 "nbformat_minor": 2
}
